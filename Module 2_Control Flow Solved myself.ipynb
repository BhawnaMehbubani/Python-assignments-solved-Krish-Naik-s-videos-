{
 "cells": [
  {
   "cell_type": "markdown",
   "id": "f9aa3121",
   "metadata": {},
   "source": [
    "# Module 2: Control Flow Assignments\n",
    "## Lesson 2.1: Conditional Statements"
   ]
  },
  {
   "cell_type": "markdown",
   "id": "15d26d76",
   "metadata": {},
   "source": [
    "### Assignment 1: Simple if Statement\n",
    "Write a program that asks the user to input a number and prints whether the number is positive."
   ]
  },
  {
   "cell_type": "code",
   "execution_count": 4,
   "metadata": {},
   "outputs": [
    {
     "name": "stdout",
     "output_type": "stream",
     "text": [
      "5 is positive number\n"
     ]
    }
   ],
   "source": [
    "#Your code here\n",
    "a=int(input())\n",
    "if a>0:\n",
    "    print(a,\"is positive number\")\n",
    "else:\n",
    "    print(a,\"is a negative number\")"
   ]
  },
  {
   "cell_type": "markdown",
   "id": "d4c3e380",
   "metadata": {},
   "source": [
    "### Assignment 2: if-else Statement\n",
    "\n",
    "Write a program that asks the user to input a number and prints whether the number is positive or negative.\n"
   ]
  },
  {
   "cell_type": "code",
   "execution_count": 5,
   "id": "de8e951e",
   "metadata": {},
   "outputs": [
    {
     "name": "stdout",
     "output_type": "stream",
     "text": [
      "4 is positive number\n"
     ]
    }
   ],
   "source": [
    "#Your code here\n",
    "a=int(input())\n",
    "if a>0:\n",
    "    print(a,\"is positive number\")\n",
    "else:\n",
    "    print(a,\"is a negative number\")"
   ]
  },
  {
   "cell_type": "markdown",
   "id": "83b66d6a",
   "metadata": {},
   "source": [
    "### Assignment 3: if-elif-else Statement\n",
    "\n",
    "Write a program that asks the user to input a number and prints whether the number is positive, negative, or zero.\n"
   ]
  },
  {
   "cell_type": "code",
   "execution_count": 6,
   "id": "6cd85726",
   "metadata": {},
   "outputs": [
    {
     "name": "stdout",
     "output_type": "stream",
     "text": [
      "-76543 is a negative number\n"
     ]
    }
   ],
   "source": [
    "#Your code here\n",
    "a=int(input())\n",
    "if a>0:\n",
    "    print(a,\"is positive number\")\n",
    "elif a<0:\n",
    "    print(a,\"is a negative number\")\n",
    "else:\n",
    "    print(a,\"is zero\")"
   ]
  },
  {
   "cell_type": "markdown",
   "id": "14f7da41",
   "metadata": {},
   "source": [
    "### Assignment 4: Nested if Statement\n",
    "\n",
    "Write a program that asks the user to input a number and prints whether the number is positive and even, positive and odd, or negative."
   ]
  },
  {
   "cell_type": "code",
   "execution_count": 7,
   "id": "7b938986",
   "metadata": {},
   "outputs": [
    {
     "name": "stdout",
     "output_type": "stream",
     "text": [
      "7 is positive number\n",
      "7 is a odd number\n"
     ]
    }
   ],
   "source": [
    "#Your code here\n",
    "a=int(input())\n",
    "if a>0:\n",
    "    print(a,\"is positive number\")\n",
    "    if a%2==0:\n",
    "        print(a,\"is a even number\")\n",
    "    else:\n",
    "        print(a,\"is a odd number\")\n",
    "else:\n",
    "    print(a,\"is zero\")"
   ]
  },
  {
   "cell_type": "markdown",
   "id": "124ef1ed",
   "metadata": {},
   "source": [
    "## Lesson 2.2: Loops\n",
    "### Assignment 5: for Loop\n",
    "\n",
    "Write a program that prints all the numbers from 1 to 10 using a for loop."
   ]
  },
  {
   "cell_type": "code",
   "execution_count": 2,
   "id": "24f3a605",
   "metadata": {},
   "outputs": [
    {
     "name": "stdout",
     "output_type": "stream",
     "text": [
      "1\n",
      "2\n",
      "3\n",
      "4\n",
      "5\n",
      "6\n",
      "7\n",
      "8\n",
      "9\n",
      "10\n"
     ]
    }
   ],
   "source": [
    "#Your code here\n",
    "for i in range(1,11,1):\n",
    "    print(i)"
   ]
  },
  {
   "cell_type": "markdown",
   "id": "8755beea",
   "metadata": {},
   "source": [
    "### Assignment 6: while Loop\n",
    "\n",
    "Write a program that prints all the numbers from 1 to 10 using a while loop.\n"
   ]
  },
  {
   "cell_type": "code",
   "execution_count": 5,
   "id": "0f028d76",
   "metadata": {},
   "outputs": [
    {
     "name": "stdout",
     "output_type": "stream",
     "text": [
      "1\n",
      "2\n",
      "3\n",
      "4\n",
      "5\n",
      "6\n",
      "7\n",
      "8\n",
      "9\n",
      "10\n"
     ]
    }
   ],
   "source": [
    "#Your code here\n",
    "count=1\n",
    "while(count<=10):\n",
    "    print(count)\n",
    "    count+=1"
   ]
  },
  {
   "cell_type": "markdown",
   "id": "de9909d5",
   "metadata": {},
   "source": [
    "### Assignment 7: Nested Loops\n",
    "\n",
    "Write a program that prints a 5x5 grid of asterisks (*) using nested loops."
   ]
  },
  {
   "cell_type": "code",
   "execution_count": 12,
   "id": "78a1ec78",
   "metadata": {},
   "outputs": [
    {
     "name": "stdout",
     "output_type": "stream",
     "text": [
      "*****\n",
      "*****\n",
      "*****\n",
      "*****\n",
      "*****\n"
     ]
    }
   ],
   "source": [
    "#Your code here\n",
    "for i in range (5):\n",
    "    for j in range (5):\n",
    "        print(\"*\", end=\"\")\n",
    "    print()    "
   ]
  },
  {
   "cell_type": "markdown",
   "id": "ca0c8b0c",
   "metadata": {},
   "source": []
  },
  {
   "cell_type": "markdown",
   "id": "f08e3a35",
   "metadata": {},
   "source": [
    "### Assignment 8: break Statement\n",
    "\n",
    "Write a program that asks the user to input numbers until they input 0. The program should print the sum of all the input numbers.\n"
   ]
  },
  {
   "cell_type": "code",
   "execution_count": 11,
   "id": "fbb76e78",
   "metadata": {},
   "outputs": [
    {
     "name": "stdout",
     "output_type": "stream",
     "text": [
      "Enter only integers please\n",
      "The sum of all the integers is 10\n"
     ]
    }
   ],
   "source": [
    "#Your code here\n",
    "total_sum=0\n",
    "while True:\n",
    "    try:\n",
    "        n=int(input(\"Enter number (entering zero would stop the execution)\"))\n",
    "        if(n==0):\n",
    "            break\n",
    "        total_sum+=n\n",
    "    except ValueError:\n",
    "        print(\"Enter only integers please\")\n",
    "\n",
    "print(f\"The sum of all the integers is {total_sum}\")    "
   ]
  },
  {
   "cell_type": "markdown",
   "id": "3c629d34",
   "metadata": {},
   "source": [
    "### Assignment 9: continue Statement\n",
    "\n",
    "Write a program that prints all the numbers from 1 to 10 except 5 using a for loop and continue statement.\n"
   ]
  },
  {
   "cell_type": "code",
   "execution_count": 16,
   "id": "e5631d91",
   "metadata": {},
   "outputs": [
    {
     "name": "stdout",
     "output_type": "stream",
     "text": [
      "1\n",
      "2\n",
      "3\n",
      "4\n",
      "6\n",
      "7\n",
      "8\n",
      "9\n",
      "10\n"
     ]
    }
   ],
   "source": [
    "#Your code here\n",
    "for i in range(1,11):\n",
    "    if(i==5):\n",
    "        continue\n",
    "    print(i)"
   ]
  },
  {
   "cell_type": "markdown",
   "id": "862f9b57",
   "metadata": {},
   "source": [
    "### Assignment 10: pass Statement\n",
    "\n",
    "Write a program that defines an empty function using the pass statement."
   ]
  },
  {
   "cell_type": "markdown",
   "id": "57e7a212",
   "metadata": {},
   "source": []
  },
  {
   "cell_type": "code",
   "execution_count": 14,
   "id": "9b4c1100",
   "metadata": {},
   "outputs": [
    {
     "name": "stdout",
     "output_type": "stream",
     "text": [
      "0\n",
      "1\n",
      "2\n",
      "3\n",
      "4\n",
      "5\n",
      "6\n",
      "7\n",
      "8\n",
      "9\n"
     ]
    }
   ],
   "source": [
    "#Your code here\n",
    "#Your code here\n",
    "for i in range(10):\n",
    "    if(i==5):\n",
    "        pass\n",
    "    print(i)"
   ]
  },
  {
   "cell_type": "markdown",
   "id": "7603aeb2",
   "metadata": {},
   "source": [
    "### Assignment 11: Combining Loops and Conditionals\n",
    "\n",
    "Write a program that asks the user to input a number and prints all the even numbers from 1 to that number using a for loop."
   ]
  },
  {
   "cell_type": "code",
   "execution_count": 22,
   "id": "2e2bac28",
   "metadata": {},
   "outputs": [
    {
     "name": "stdout",
     "output_type": "stream",
     "text": [
      "You have entered 5\n",
      "1\n",
      "2\n",
      "3\n",
      "4\n",
      "5\n"
     ]
    }
   ],
   "source": [
    "#Your code here\n",
    "n=int(input())\n",
    "'''count=1\n",
    "while count<=n:\n",
    "    print(count)\n",
    "    count+=1'''\n",
    "print (f\"You have entered {n}\")\n",
    "for i in range(1,n+1,1):\n",
    "    print(i)\n"
   ]
  },
  {
   "cell_type": "markdown",
   "id": "8e780583",
   "metadata": {},
   "source": []
  },
  {
   "cell_type": "markdown",
   "id": "aa04eb4f",
   "metadata": {},
   "source": [
    "### Assignment 12: Factorial Calculation\n",
    "\n",
    "Write a program that calculates the factorial of a number input by the user using a while loop."
   ]
  },
  {
   "cell_type": "code",
   "execution_count": 30,
   "id": "92b6a525",
   "metadata": {},
   "outputs": [
    {
     "name": "stdout",
     "output_type": "stream",
     "text": [
      "The factorial of 5 is 120\n"
     ]
    }
   ],
   "source": [
    "#Your code here\n",
    "'''n=int(input())\n",
    "fact=1\n",
    "while (n>0):\n",
    "    fact*=n\n",
    "    n-=1\n",
    "print(fact) '''\n",
    "def factorial_recursive(n):\n",
    "    if n == 0 or n == 1:\n",
    "        return 1\n",
    "    else:\n",
    "        return n * factorial_recursive(n - 1)\n",
    "\n",
    "num = int(input(\"Enter a non-negative number: \"))\n",
    "\n",
    "if num < 0:\n",
    "    print(\"Factorial does not exist for negative numbers.\")\n",
    "else:\n",
    "    print(f\"The factorial of {num} is {factorial_recursive(num)}\")"
   ]
  },
  {
   "cell_type": "markdown",
   "id": "35c21081",
   "metadata": {},
   "source": [
    "### Assignment 13: Sum of Digits\n",
    "\n",
    "Write a program that calculates the sum of the digits of a number input by the user using a while loop."
   ]
  },
  {
   "cell_type": "code",
   "execution_count": 28,
   "id": "5e9fce76",
   "metadata": {},
   "outputs": [
    {
     "name": "stdout",
     "output_type": "stream",
     "text": [
      "Sum of the digits in 10\n"
     ]
    }
   ],
   "source": [
    "#Your code here\n",
    "n=int(input())\n",
    "sum=0\n",
    "while n>0:\n",
    "    d=n%10\n",
    "    sum+=d\n",
    "    n//=10\n",
    "print(f\"Sum of the digits in {sum}\")    \n"
   ]
  },
  {
   "cell_type": "markdown",
   "id": "f0ef2bfb",
   "metadata": {},
   "source": []
  },
  {
   "cell_type": "markdown",
   "id": "b0a0f57e",
   "metadata": {},
   "source": [
    "### Assignment 14: Prime Number Check\n",
    "\n",
    "Write a program that checks if a number input by the user is a prime number using a for loop."
   ]
  },
  {
   "cell_type": "code",
   "execution_count": 37,
   "id": "dd16b3b5",
   "metadata": {},
   "outputs": [
    {
     "name": "stdout",
     "output_type": "stream",
     "text": [
      "75 is not a prime number.\n"
     ]
    }
   ],
   "source": [
    "#Your code here\n",
    "'''n=int(input())\n",
    "for i in range(2,int(n**0.5)+1,1):\n",
    "    if n%i==0:\n",
    "        print (\"Not prime\")\n",
    "    else:\n",
    "        print(\"Prime\")'''\n",
    "def check_prime(number):\n",
    "    if number <= 1:\n",
    "        return False  # 0 and 1 are not prime numbers\n",
    "    elif number == 2:\n",
    "        return True  # 2 is the only even prime number\n",
    "    else:\n",
    "        # Iterate from 2 up to the square root of the number\n",
    "        # We only need to check divisors up to the square root because\n",
    "        # if a number has a divisor greater than its square root,\n",
    "        # it must also have a divisor smaller than its square root.\n",
    "        for i in range(2, int(number**0.5) + 1):\n",
    "            if number % i == 0:\n",
    "                return False  # Found a divisor, so it's not prime\n",
    "        return True  # No divisors found, so it's prime\n",
    "\n",
    "# Get input from the user\n",
    "try:\n",
    "    num_input = int(input(\"Enter a number to check if it's prime: \"))\n",
    "    if check_prime(num_input):\n",
    "        print(f\"{num_input} is a prime number.\")\n",
    "    else:\n",
    "        print(f\"{num_input} is not a prime number.\")\n",
    "except ValueError:\n",
    "    print(\"Invalid input. Please enter an integer.\")\n",
    "\n"
   ]
  },
  {
   "cell_type": "markdown",
   "id": "680b94a4",
   "metadata": {},
   "source": [
    "### Assignment 15: Fibonacci Sequence\n",
    "\n",
    "Write a program that prints the first n Fibonacci numbers, where n is input by the user."
   ]
  },
  {
   "cell_type": "code",
   "execution_count": 43,
   "id": "e272dbc9",
   "metadata": {},
   "outputs": [
    {
     "name": "stdout",
     "output_type": "stream",
     "text": [
      "Fibonacci Series: 0 1 1 2 3 5 \n"
     ]
    }
   ],
   "source": [
    "#Your code here\n",
    "'''num = int(input())\n",
    "n1, n2 = 0, 1\n",
    "print(\"Fibonacci Series:\", n1, n2, end=\" \")\n",
    "for i in range(2, num):\n",
    "    n3 = n1 + n2\n",
    "    n1 = n2\n",
    "    n2 = n3\n",
    "    print(n3, end=\" \")\n",
    "\n",
    "print()'''\n",
    "\n",
    "def print_fibonacci_series(n):\n",
    "    if n <= 0:\n",
    "        print(\"Please enter a positive integer.\")\n",
    "        return\n",
    "    elif n == 1:\n",
    "        print(\"Fibonacci Series: 0\")\n",
    "        return\n",
    "    \n",
    "    a, b = 0, 1\n",
    "    print(f\"Fibonacci Series: {a} {b}\", end=\" \")\n",
    "\n",
    "    for _ in range(2, n):\n",
    "        next_fib = a + b\n",
    "        print(next_fib, end=\" \")\n",
    "        a, b = b, next_fib\n",
    "    print() # For a new line after the series\n",
    "\n",
    "# Get input from the user\n",
    "try:\n",
    "    num_terms = int(input(\"Enter the number of Fibonacci terms to generate: \"))\n",
    "    print_fibonacci_series(num_terms)\n",
    "except ValueError:\n",
    "    print(\"Invalid input. Please enter an integer.\")\n",
    "\n"
   ]
  },
  {
   "cell_type": "code",
   "execution_count": null,
   "id": "ed654c29",
   "metadata": {},
   "outputs": [],
   "source": []
  }
 ],
 "metadata": {
  "kernelspec": {
   "display_name": "base",
   "language": "python",
   "name": "python3"
  },
  "language_info": {
   "codemirror_mode": {
    "name": "ipython",
    "version": 3
   },
   "file_extension": ".py",
   "mimetype": "text/x-python",
   "name": "python",
   "nbconvert_exporter": "python",
   "pygments_lexer": "ipython3",
   "version": "3.10.10"
  }
 },
 "nbformat": 4,
 "nbformat_minor": 5
}
