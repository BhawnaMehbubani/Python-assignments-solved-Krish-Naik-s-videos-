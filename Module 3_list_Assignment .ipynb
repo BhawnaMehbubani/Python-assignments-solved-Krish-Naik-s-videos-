{
 "cells": [
  {
   "cell_type": "markdown",
   "id": "51cf063d",
   "metadata": {},
   "source": [
    "# Module 3: Data Structures Assignments\n",
    "## Lesson 3.1: Lists"
   ]
  },
  {
   "cell_type": "markdown",
   "id": "6865756e",
   "metadata": {},
   "source": [
    "### Assignment 1: Creating and Accessing Lists\n",
    "\n",
    "Create a list of the first 20 positive integers. Print the list."
   ]
  },
  {
   "cell_type": "code",
   "execution_count": 20,
   "id": "eb1fe1f5",
   "metadata": {},
   "outputs": [
    {
     "name": "stdout",
     "output_type": "stream",
     "text": [
      "[1, 2, 3, 4, 5, 6, 7, 8, 9, 10, 11, 12, 13, 14, 15, 16, 17, 18, 19, 20]\n"
     ]
    }
   ],
   "source": [
    "#Your code here\n",
    "first_20_integers= list(range(1, 21))\n",
    "print(first_20_integers)"
   ]
  },
  {
   "cell_type": "markdown",
   "id": "9cd283ed",
   "metadata": {},
   "source": [
    "### Assignment 2: Accessing List Elements\n",
    "\n",
    "Print the first, middle, and last elements of the list created in Assignment 1.\n"
   ]
  },
  {
   "cell_type": "code",
   "execution_count": 21,
   "id": "255f8a20",
   "metadata": {},
   "outputs": [
    {
     "name": "stdout",
     "output_type": "stream",
     "text": [
      "First element of the above list is: 1\n",
      "Middle element of the above list is: 11\n",
      "Last element of the above list is: 20\n"
     ]
    }
   ],
   "source": [
    "#Your code here\n",
    "# Accessing first, middle, and last elements\n",
    "print(f\"First element of the above list is: {first_20_integers[0]}\")\n",
    "print(f\"Middle element of the above list is: {first_20_integers[len(first_20_integers) // 2]}\")\n",
    "print(f\"Last element of the above list is: {first_20_integers[-1]}\")"
   ]
  },
  {
   "cell_type": "markdown",
   "id": "528df589",
   "metadata": {},
   "source": [
    "### Assignment 3: List Slicing\n",
    "\n",
    "Print the first five elements, the last five elements, and the elements from index 5 to 15 of the list created in Assignment 1."
   ]
  },
  {
   "cell_type": "code",
   "execution_count": 24,
   "id": "5fb8c6a1",
   "metadata": {},
   "outputs": [
    {
     "name": "stdout",
     "output_type": "stream",
     "text": [
      "first 5 elements:  = [1, 2, 3, 4, 5]\n",
      "last 5 elements:  = [16, 17, 18, 19, 20]\n",
      "elements from index 5 to 15:  = [6, 7, 8, 9, 10, 11, 12, 13, 14, 15, 16]\n"
     ]
    }
   ],
   "source": [
    "#Your code here\n",
    "print(f\"first 5 elements:  = {first_20_integers[:5]}\")\n",
    "print(f\"last 5 elements:  = {first_20_integers[-5:]}\")\n",
    "print(f\"elements from index 5 to 15:  = {first_20_integers[5:16]}\")"
   ]
  },
  {
   "cell_type": "markdown",
   "id": "fb9bf1c3",
   "metadata": {},
   "source": []
  },
  {
   "cell_type": "markdown",
   "id": "8733590a",
   "metadata": {},
   "source": [
    "### Assignment 4: List Comprehensions\n",
    "\n",
    "Create a new list containing the squares of the first 10 positive integers using a list comprehension. Print the new list.\n"
   ]
  },
  {
   "cell_type": "code",
   "execution_count": 27,
   "id": "750c1134",
   "metadata": {},
   "outputs": [
    {
     "name": "stdout",
     "output_type": "stream",
     "text": [
      "Squares of first 10 positive integers: [1, 4, 9, 16, 25, 36, 49, 64, 81, 100]\n"
     ]
    }
   ],
   "source": [
    "#Your code here\n",
    "print(f\"Squares of first 10 positive integers: {[x**2 for x in first_20_integers[:10]]}\")"
   ]
  },
  {
   "cell_type": "markdown",
   "id": "920e9cbd",
   "metadata": {},
   "source": [
    "### Assignment 5: Filtering Lists\n",
    "\n",
    "Create a new list containing only the even numbers from the list created in Assignment 1 using a list comprehension. Print the new list."
   ]
  },
  {
   "cell_type": "code",
   "execution_count": 28,
   "id": "66dadae9",
   "metadata": {},
   "outputs": [
    {
     "name": "stdout",
     "output_type": "stream",
     "text": [
      "Squares of first 10 positive integers: [4, 16, 36, 64, 100, 144, 196, 256, 324, 400]\n"
     ]
    }
   ],
   "source": [
    "#Your code here\n",
    "print(f\"Squares of first 10 positive integers: {[x**2 for x in first_20_integers if x%2==0]}\")"
   ]
  },
  {
   "cell_type": "markdown",
   "id": "d8bac080",
   "metadata": {},
   "source": [
    "### Assignment 6: List Methods\n",
    "\n",
    "Create a list of random numbers and sort it in ascending and descending order. Remove the duplicates from the list and print the modified list."
   ]
  },
  {
   "cell_type": "code",
   "execution_count": 6,
   "id": "d65e89b5",
   "metadata": {},
   "outputs": [],
   "source": [
    "#Your code here"
   ]
  },
  {
   "cell_type": "markdown",
   "id": "c2443f19",
   "metadata": {},
   "source": [
    "### Assignment 7: Nested Lists\n",
    "\n",
    "Create a nested list representing a 3x3 matrix and print the matrix. Access and print the element at the second row and third column.\n"
   ]
  },
  {
   "cell_type": "code",
   "execution_count": 7,
   "id": "176d20a0",
   "metadata": {},
   "outputs": [],
   "source": [
    "#Your code here"
   ]
  },
  {
   "cell_type": "markdown",
   "id": "c0944c2e",
   "metadata": {},
   "source": [
    "### Assignment 8: List of Dictionaries\n",
    "\n",
    "Create a list of dictionaries where each dictionary represents a student with keys 'name' and 'score'. Sort the list of dictionaries by the 'score' in descending order and print the sorted list."
   ]
  },
  {
   "cell_type": "markdown",
   "id": "1ff3c6fa",
   "metadata": {},
   "source": []
  },
  {
   "cell_type": "code",
   "execution_count": 8,
   "id": "d7ac72c9",
   "metadata": {},
   "outputs": [],
   "source": [
    "#Your code here"
   ]
  },
  {
   "cell_type": "markdown",
   "id": "54aa1631",
   "metadata": {},
   "source": [
    "### Assignment 9: Matrix Transposition\n",
    "\n",
    "Write a function that takes a 3x3 matrix (nested list) as input and returns its transpose. Print the original and transposed matrices.\n"
   ]
  },
  {
   "cell_type": "code",
   "execution_count": 9,
   "id": "373f4cdb",
   "metadata": {},
   "outputs": [],
   "source": [
    "#Your code here"
   ]
  },
  {
   "cell_type": "markdown",
   "id": "124bae77",
   "metadata": {},
   "source": [
    "### Assignment 10: Flattening a Nested List\n",
    "\n",
    "Write a function that takes a nested list and flattens it into a single list. Print the original and flattened lists."
   ]
  },
  {
   "cell_type": "code",
   "execution_count": 10,
   "id": "cfab6ac0",
   "metadata": {},
   "outputs": [],
   "source": [
    "#Your code here"
   ]
  },
  {
   "cell_type": "markdown",
   "id": "e8aea9cb",
   "metadata": {},
   "source": [
    "### Assignment 11: List Manipulation\n",
    "\n",
    "Create a list of the first 10 positive integers. Remove the elements at indices 2, 4, and 6, and insert the element '99' at index 5. Print the modified list."
   ]
  },
  {
   "cell_type": "code",
   "execution_count": 11,
   "id": "7840c4a7",
   "metadata": {},
   "outputs": [],
   "source": [
    "#Your code here"
   ]
  },
  {
   "cell_type": "markdown",
   "id": "d397ef0e",
   "metadata": {},
   "source": [
    "\n",
    "### Assignment 12: List Zipping\n",
    "\n",
    "Create two lists of the same length. Use the `zip` function to combine these lists into a list of tuples and print the result."
   ]
  },
  {
   "cell_type": "code",
   "execution_count": 12,
   "id": "96de00e9",
   "metadata": {},
   "outputs": [],
   "source": [
    "#Your code here"
   ]
  },
  {
   "cell_type": "markdown",
   "id": "7a222ad9",
   "metadata": {},
   "source": [
    "### Assignment 13: List Reversal\n",
    "\n",
    "Write a function that takes a list and returns a new list with the elements in reverse order. Print the original and reversed lists."
   ]
  },
  {
   "cell_type": "code",
   "execution_count": 13,
   "id": "b1f2064a",
   "metadata": {},
   "outputs": [],
   "source": [
    "#Your code here"
   ]
  },
  {
   "cell_type": "markdown",
   "id": "78522888",
   "metadata": {},
   "source": [
    "### Assignment 14: List Rotation\n",
    "\n",
    "Write a function that rotates a list by n positions. Print the original and rotated lists."
   ]
  },
  {
   "cell_type": "code",
   "execution_count": 14,
   "id": "e4137c69",
   "metadata": {},
   "outputs": [],
   "source": [
    "#Your code here"
   ]
  },
  {
   "cell_type": "markdown",
   "id": "4de0237c",
   "metadata": {},
   "source": [
    "### Assignment 15: List Intersection\n",
    "Write function that takes two lists and returns a new list containing only the elements that are present in both lists. Print the intersected list."
   ]
  },
  {
   "cell_type": "code",
   "execution_count": 19,
   "id": "42b8ffd9",
   "metadata": {},
   "outputs": [],
   "source": [
    "#Your code here"
   ]
  }
 ],
 "metadata": {
  "kernelspec": {
   "display_name": "base",
   "language": "python",
   "name": "python3"
  },
  "language_info": {
   "codemirror_mode": {
    "name": "ipython",
    "version": 3
   },
   "file_extension": ".py",
   "mimetype": "text/x-python",
   "name": "python",
   "nbconvert_exporter": "python",
   "pygments_lexer": "ipython3",
   "version": "3.10.10"
  }
 },
 "nbformat": 4,
 "nbformat_minor": 5
}
