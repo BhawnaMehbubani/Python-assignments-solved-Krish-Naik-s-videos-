{
 "cells": [
  {
   "cell_type": "markdown",
   "id": "51cf063d",
   "metadata": {},
   "source": [
    "# Module 3: Data Structures Assignments\n",
    "## Lesson 3.1: Lists"
   ]
  },
  {
   "cell_type": "markdown",
   "id": "6865756e",
   "metadata": {},
   "source": [
    "### Assignment 1: Creating and Accessing Lists\n",
    "\n",
    "Create a list of the first 20 positive integers. Print the list."
   ]
  },
  {
   "cell_type": "code",
   "execution_count": 20,
   "id": "eb1fe1f5",
   "metadata": {},
   "outputs": [
    {
     "name": "stdout",
     "output_type": "stream",
     "text": [
      "[1, 2, 3, 4, 5, 6, 7, 8, 9, 10, 11, 12, 13, 14, 15, 16, 17, 18, 19, 20]\n"
     ]
    }
   ],
   "source": [
    "#Your code here\n",
    "first_20_integers= list(range(1, 21))\n",
    "print(first_20_integers)"
   ]
  },
  {
   "cell_type": "markdown",
   "id": "9cd283ed",
   "metadata": {},
   "source": [
    "### Assignment 2: Accessing List Elements\n",
    "\n",
    "Print the first, middle, and last elements of the list created in Assignment 1.\n"
   ]
  },
  {
   "cell_type": "code",
   "execution_count": 21,
   "id": "255f8a20",
   "metadata": {},
   "outputs": [
    {
     "name": "stdout",
     "output_type": "stream",
     "text": [
      "First element of the above list is: 1\n",
      "Middle element of the above list is: 11\n",
      "Last element of the above list is: 20\n"
     ]
    }
   ],
   "source": [
    "#Your code here\n",
    "# Accessing first, middle, and last elements\n",
    "print(f\"First element of the above list is: {first_20_integers[0]}\")\n",
    "print(f\"Middle element of the above list is: {first_20_integers[len(first_20_integers) // 2]}\")\n",
    "print(f\"Last element of the above list is: {first_20_integers[-1]}\")"
   ]
  },
  {
   "cell_type": "markdown",
   "id": "528df589",
   "metadata": {},
   "source": [
    "### Assignment 3: List Slicing\n",
    "\n",
    "Print the first five elements, the last five elements, and the elements from index 5 to 15 of the list created in Assignment 1."
   ]
  },
  {
   "cell_type": "code",
   "execution_count": 24,
   "id": "5fb8c6a1",
   "metadata": {},
   "outputs": [
    {
     "name": "stdout",
     "output_type": "stream",
     "text": [
      "first 5 elements:  = [1, 2, 3, 4, 5]\n",
      "last 5 elements:  = [16, 17, 18, 19, 20]\n",
      "elements from index 5 to 15:  = [6, 7, 8, 9, 10, 11, 12, 13, 14, 15, 16]\n"
     ]
    }
   ],
   "source": [
    "#Your code here\n",
    "print(f\"first 5 elements:  = {first_20_integers[:5]}\")\n",
    "print(f\"last 5 elements:  = {first_20_integers[-5:]}\")\n",
    "print(f\"elements from index 5 to 15:  = {first_20_integers[5:16]}\")"
   ]
  },
  {
   "cell_type": "markdown",
   "id": "fb9bf1c3",
   "metadata": {},
   "source": []
  },
  {
   "cell_type": "markdown",
   "id": "8733590a",
   "metadata": {},
   "source": [
    "### Assignment 4: List Comprehensions\n",
    "\n",
    "Create a new list containing the squares of the first 10 positive integers using a list comprehension. Print the new list.\n"
   ]
  },
  {
   "cell_type": "code",
   "execution_count": 27,
   "id": "750c1134",
   "metadata": {},
   "outputs": [
    {
     "name": "stdout",
     "output_type": "stream",
     "text": [
      "Squares of first 10 positive integers: [1, 4, 9, 16, 25, 36, 49, 64, 81, 100]\n"
     ]
    }
   ],
   "source": [
    "#Your code here\n",
    "print(f\"Squares of first 10 positive integers: {[x**2 for x in first_20_integers[:10]]}\")"
   ]
  },
  {
   "cell_type": "markdown",
   "id": "920e9cbd",
   "metadata": {},
   "source": [
    "### Assignment 5: Filtering Lists\n",
    "\n",
    "Create a new list containing only the even numbers from the list created in Assignment 1 using a list comprehension. Print the new list."
   ]
  },
  {
   "cell_type": "code",
   "execution_count": 29,
   "id": "66dadae9",
   "metadata": {},
   "outputs": [
    {
     "name": "stdout",
     "output_type": "stream",
     "text": [
      "Squares of first 10 positive integers: [4, 16, 36, 64, 100, 144, 196, 256, 324, 400]\n"
     ]
    }
   ],
   "source": [
    "#Your code here\n",
    "print(f\"Squares of first 10 positive integers: {[x**2 for x in first_20_integers if x%2==0]}\")"
   ]
  },
  {
   "cell_type": "markdown",
   "id": "d8bac080",
   "metadata": {},
   "source": [
    "### Assignment 6: List Methods\n",
    "\n",
    "Create a list of random numbers and sort it in ascending and descending order. Remove the duplicates from the list and print the modified list."
   ]
  },
  {
   "cell_type": "code",
   "execution_count": 31,
   "id": "d65e89b5",
   "metadata": {},
   "outputs": [
    {
     "name": "stdout",
     "output_type": "stream",
     "text": [
      "Original random numbers: [10, 19, 1, 13, 14, 3, 2, 14, 6, 15, 14, 10, 20, 18, 7]\n",
      "Unique sorted random numbers: [1, 2, 3, 6, 7, 10, 13, 14, 15, 18, 19, 20]\n",
      "Unique sorted random numbers in descending order: [20, 19, 18, 15, 14, 13, 10, 7, 6, 3, 2, 1]\n"
     ]
    }
   ],
   "source": [
    "#Your code here\n",
    "import random\n",
    "random_numbers = [random.randint(1, 20) for _ in range(15)]\n",
    "print(f\"Original random numbers: {random_numbers}\")\n",
    "\n",
    "#Remove duplicates\n",
    "unique_numbers= list(set(random_numbers))\n",
    "\n",
    "#Sort in ascending order\n",
    "unique_numbers.sort()\n",
    "print(f\"Unique sorted random numbers: {unique_numbers}\")\n",
    "\n",
    "#Sort in descending order\n",
    "unique_numbers.sort(reverse=True)\n",
    "print(f\"Unique sorted random numbers in descending order: {unique_numbers}\")\n",
    "\n",
    "#sorted()- returns a new sorted list\n",
    "#.sort()- sorts the list in place\n"
   ]
  },
  {
   "cell_type": "markdown",
   "id": "c2443f19",
   "metadata": {},
   "source": [
    "### Assignment 7: Nested Lists\n",
    "\n",
    "Create a nested list representing a 3x3 matrix and print the matrix. Access and print the element at the second row and third column.\n"
   ]
  },
  {
   "cell_type": "code",
   "execution_count": 33,
   "id": "176d20a0",
   "metadata": {},
   "outputs": [
    {
     "name": "stdout",
     "output_type": "stream",
     "text": [
      "3x3 Matrix:\n",
      "[1, 2, 3]\n",
      "[4, 5, 6]\n",
      "[7, 8, 9]\n",
      "Element at second row, third column: 6\n"
     ]
    }
   ],
   "source": [
    "#Your code here\n",
    "matrix = [\n",
    "    [1, 2, 3],\n",
    "    [4, 5, 6],\n",
    "    [7, 8, 9]\n",
    "]\n",
    "\n",
    "print(\"3x3 Matrix:\")\n",
    "for row in matrix:\n",
    "    print(row)\n",
    "\n",
    "# Access element at second row, third column (row index 1, column index 2)\n",
    "print(\"Element at second row, third column:\", matrix[1][2])"
   ]
  },
  {
   "cell_type": "code",
   "execution_count": 35,
   "id": "ef0a941a",
   "metadata": {},
   "outputs": [
    {
     "name": "stdout",
     "output_type": "stream",
     "text": [
      "3x3 Matrix using nested list comprehension:\n",
      "[1, 2, 3]\n",
      "[4, 5, 6]\n",
      "[7, 8, 9]\n"
     ]
    }
   ],
   "source": [
    "matrix = [[row * 3 + col + 1 for col in range(3)] for row in range(3)]\n",
    "print(\"3x3 Matrix using nested list comprehension:\")\n",
    "for row in matrix:\n",
    "    print(row)"
   ]
  },
  {
   "cell_type": "markdown",
   "id": "c0944c2e",
   "metadata": {},
   "source": [
    "### Assignment 8: List of Dictionaries\n",
    "\n",
    "Create a list of dictionaries where each dictionary represents a student with keys 'name' and 'score'. Sort the list of dictionaries by the 'score' in descending order and print the sorted list."
   ]
  },
  {
   "cell_type": "markdown",
   "id": "1ff3c6fa",
   "metadata": {},
   "source": []
  },
  {
   "cell_type": "code",
   "execution_count": null,
   "id": "d7ac72c9",
   "metadata": {},
   "outputs": [
    {
     "name": "stdout",
     "output_type": "stream",
     "text": [
      "Students sorted by score in descending order:\n",
      "{'name': 'Bob', 'score': 92}\n",
      "{'name': 'David', 'score': 90}\n",
      "{'name': 'Alice', 'score': 85}\n",
      "{'name': 'Charlie', 'score': 78}\n"
     ]
    }
   ],
   "source": [
    "#Your code here\n",
    "# Create a list of dictionaries representing students\n",
    "students = [\n",
    "    {\"name\": \"Alice\", \"score\": 85},\n",
    "    {\"name\": \"Bob\", \"score\": 92},\n",
    "    {\"name\": \"Charlie\", \"score\": 78},\n",
    "    {\"name\": \"David\", \"score\": 90}\n",
    "]\n",
    "#Sort the list of dictionaries by the 'score' key in descending order\n",
    "sorted_students=sorted(students, key=lambda x:x[\"score\"],reverse=True)\n",
    "print(\"Students sorted by score in descending order:\")\n",
    "for student in sorted_students:\n",
    "    print(f\"{student['name']}: {student['score']}\")"
   ]
  },
  {
   "cell_type": "markdown",
   "id": "54aa1631",
   "metadata": {},
   "source": [
    "### Assignment 9: Matrix Transposition\n",
    "\n",
    "Write a function that takes a 3x3 matrix (nested list) as input and returns its transpose. Print the original and transposed matrices.\n"
   ]
  },
  {
   "cell_type": "code",
   "execution_count": 38,
   "id": "373f4cdb",
   "metadata": {},
   "outputs": [
    {
     "name": "stdout",
     "output_type": "stream",
     "text": [
      "Enter the elements of 3x3 matrix row by row:\n",
      "\n",
      "Original Matrix:\n",
      "[1, 2, 3]\n",
      "[4, 5, 6]\n",
      "[7, 8, 9]\n",
      "\n",
      "Transposed Matrix:\n",
      "[1, 4, 7]\n",
      "[2, 5, 8]\n",
      "[3, 6, 9]\n"
     ]
    }
   ],
   "source": [
    "#Your code here\n",
    "def get_matrix_input():\n",
    "    print(\"Enter the elements of 3x3 matrix row by row:\")\n",
    "    matrix = []\n",
    "    for i in range(3):\n",
    "        while True:\n",
    "            try:\n",
    "                # Get row input as space-separated numbers\n",
    "                row = list(map(int, input(f\"Enter row {i+1} (3 numbers separated by spaces): \").split()))\n",
    "                if len(row) != 3:\n",
    "                    print(\"Please enter exactly 3 numbers\")\n",
    "                    continue\n",
    "                matrix.append(row)\n",
    "                break\n",
    "            except ValueError:\n",
    "                print(\"Please enter valid numbers\")\n",
    "    return matrix\n",
    "\n",
    "def transpose_matrix(matrix):\n",
    "    return [[matrix[j][i] for j in range(len(matrix))] for i in range(len(matrix[0]))]\n",
    "\n",
    "# Get matrix input from user\n",
    "matrix = get_matrix_input()\n",
    "\n",
    "# Print original matrix\n",
    "print(\"\\nOriginal Matrix:\")\n",
    "for row in matrix:\n",
    "    print(f\"{row}\")\n",
    "\n",
    "# Get and print transposed matrix\n",
    "transposed = transpose_matrix(matrix)\n",
    "print(\"\\nTransposed Matrix:\")\n",
    "for row in transposed:\n",
    "    print(f\"{row}\")"
   ]
  },
  {
   "cell_type": "markdown",
   "id": "124bae77",
   "metadata": {},
   "source": [
    "### Assignment 10: Flattening a Nested List\n",
    "\n",
    "Write a function that takes a nested list and flattens it into a single list. Print the original and flattened lists."
   ]
  },
  {
   "cell_type": "code",
   "execution_count": 39,
   "id": "cfab6ac0",
   "metadata": {},
   "outputs": [
    {
     "name": "stdout",
     "output_type": "stream",
     "text": [
      "Original nested list:\n",
      "[1, [2, 3, [4, 5]], 6, [7, [8, 9]]]\n",
      "\n",
      "Flattened list:\n",
      "[1, 2, 3, 4, 5, 6, 7, 8, 9]\n"
     ]
    }
   ],
   "source": [
    "#Your code here\n",
    "def flatten_list(nested_list):\n",
    "    flattened = []\n",
    "    for item in nested_list:\n",
    "        if isinstance(item, list):\n",
    "            # If item is a list, recursively flatten it\n",
    "            flattened.extend(flatten_list(item))\n",
    "        else:\n",
    "            # If item is not a list, append it directly\n",
    "            flattened.append(item)\n",
    "    return flattened\n",
    "\n",
    "# Example nested list\n",
    "nested_list = [1, [2, 3, [4, 5]], 6, [7, [8, 9]]]\n",
    "\n",
    "# Print original nested list\n",
    "print(\"Original nested list:\")\n",
    "print(nested_list)\n",
    "\n",
    "# Flatten and print the list\n",
    "flattened_list = flatten_list(nested_list)\n",
    "print(\"\\nFlattened list:\")\n",
    "print(flattened_list)"
   ]
  },
  {
   "cell_type": "markdown",
   "id": "e8aea9cb",
   "metadata": {},
   "source": [
    "### Assignment 11: List Manipulation\n",
    "\n",
    "Create a list of the first 10 positive integers. Remove the elements at indices 2, 4, and 6, and insert the element '99' at index 5. Print the modified list."
   ]
  },
  {
   "cell_type": "code",
   "execution_count": 50,
   "id": "7840c4a7",
   "metadata": {},
   "outputs": [
    {
     "name": "stdout",
     "output_type": "stream",
     "text": [
      "Original list: [1, 2, 3, 4, 5, 6, 7, 8, 9, 10]\n",
      "After removing elements: [1, 2, 4, 6, 8, 9, 10]\n",
      "Final list after inserting 99: [1, 2, 4, 6, 8, 99, 9, 10]\n"
     ]
    }
   ],
   "source": [
    "#Your code here\n",
    "'''\n",
    "l=[1,2,3,4,5,6,7,8,9,10]\n",
    "l.pop(6)\n",
    "l.pop(4)\n",
    "l.pop(2)\n",
    "l.insert(5,99)\n",
    "print(f\"Modified list after removing 2, 4, 6 and inserting 99 at index 5:\\n{l}\")\n",
    "'''\n",
    "# Create list of first 10 positive integers\n",
    "numbers = list(range(1, 11))\n",
    "print(f\"Original list: {numbers}\")\n",
    "\n",
    "# Remove elements at indices 2, 4, and 6 \n",
    "# Note: Remove from highest index to lowest to avoid shifting issues\n",
    "indices_to_remove = sorted([2, 4, 6], reverse=True)\n",
    "for index in indices_to_remove:\n",
    "    numbers.pop(index)\n",
    "print(f\"After removing elements: {numbers}\")\n",
    "\n",
    "# Insert 99 at index 5\n",
    "numbers.insert(5, 99)\n",
    "print(f\"Final list after inserting 99: {numbers}\")\n"
   ]
  },
  {
   "cell_type": "markdown",
   "id": "d397ef0e",
   "metadata": {},
   "source": [
    "\n",
    "### Assignment 12: List Zipping\n",
    "\n",
    "Create two lists of the same length. Use the `zip` function to combine these lists into a list of tuples and print the result."
   ]
  },
  {
   "cell_type": "code",
   "execution_count": 52,
   "id": "96de00e9",
   "metadata": {},
   "outputs": [
    {
     "name": "stdout",
     "output_type": "stream",
     "text": [
      "Zipped list of tuples: [(1, 'a'), (2, 'b'), (3, 'c'), (4, 'd'), (5, 'e')]\n"
     ]
    }
   ],
   "source": [
    "#Your code here\n",
    "# Create two lists of the same length\n",
    "list1 = [1, 2, 3, 4, 5]\n",
    "list2 = ['a', 'b', 'c', 'd', 'e']\n",
    "\n",
    "# Use zip to combine them into a list of tuples\n",
    "zipped_list = list(zip(list1, list2))\n",
    "\n",
    "# Print the result\n",
    "print(f\"Zipped list of tuples: {zipped_list}\")"
   ]
  },
  {
   "cell_type": "markdown",
   "id": "7a222ad9",
   "metadata": {},
   "source": [
    "### Assignment 13: List Reversal\n",
    "\n",
    "Write a function that takes a list and returns a new list with the elements in reverse order. Print the original and reversed lists."
   ]
  },
  {
   "cell_type": "code",
   "execution_count": 54,
   "id": "b1f2064a",
   "metadata": {},
   "outputs": [
    {
     "name": "stdout",
     "output_type": "stream",
     "text": [
      "Original list: [1, 2, 3, 4, 5, 6, 7, 8]\n",
      "Reversed list: [8, 7, 6, 5, 4, 3, 2, 1]\n"
     ]
    },
    {
     "data": {
      "text/plain": [
       "'\\nmy_list.reverse()  # Modifies original list, returns None\\nnew_list = list(reversed(my_list))  # Creates new reversed list\\nnew_list = my_list[::-1]  # Creates new reversed list\\n'"
      ]
     },
     "execution_count": 54,
     "metadata": {},
     "output_type": "execute_result"
    }
   ],
   "source": [
    "#Your code here\n",
    "# Take space-separated input and convert to list\n",
    "my_list = list(map(int, input(\"Enter numbers separated by spaces: \").split()))\n",
    "# Print the list\n",
    "print(\"Original list:\", my_list)\n",
    "#Reverse the list\n",
    "new_list = my_list[::-1] #creates a new reversed list\n",
    "# Print the reversed list\n",
    "print(\"Reversed list:\", new_list)\n",
    "'''\n",
    "my_list.reverse()  # Modifies original list, returns None\n",
    "new_list = list(reversed(my_list))  # Creates new reversed list\n",
    "new_list = my_list[::-1]  # Creates new reversed list\n",
    "'''"
   ]
  },
  {
   "cell_type": "markdown",
   "id": "78522888",
   "metadata": {},
   "source": [
    "### Assignment 14: List Rotation\n",
    "\n",
    "Write a function that rotates a list by n positions. Print the original and rotated lists."
   ]
  },
  {
   "cell_type": "code",
   "execution_count": 56,
   "id": "e4137c69",
   "metadata": {},
   "outputs": [
    {
     "name": "stdout",
     "output_type": "stream",
     "text": [
      "Original list: [1, 2, 3, 4, 5, 6, 7, 8, 9]\n",
      "List rotated by -2 positions: [3, 4, 5, 6, 7, 8, 9, 1, 2]\n"
     ]
    }
   ],
   "source": [
    "#Your code here\n",
    "def rotate_list(lst, n):\n",
    "    \"\"\"\n",
    "    Rotates a list by n positions to the right.\n",
    "    Positive n rotates right, negative n rotates left.\n",
    "    \"\"\"\n",
    "    # Handle empty list or n=0\n",
    "    if not lst or n == 0:\n",
    "        return lst\n",
    "    \n",
    "    # Normalize n to list length\n",
    "    n = n % len(lst)\n",
    "    \n",
    "    # Use list slicing to rotate\n",
    "    return lst[-n:] + lst[:-n]\n",
    "\n",
    "# Take input from user\n",
    "numbers = list(map(int, input(\"Enter numbers separated by spaces: \").split()))\n",
    "positions = int(input(\"Enter number of positions to rotate (positive for right, negative for left): \"))\n",
    "\n",
    "# Print original list\n",
    "print(\"Original list:\", numbers)\n",
    "\n",
    "# Get and print rotated list\n",
    "rotated = rotate_list(numbers, positions)\n",
    "print(f\"List rotated by {positions} positions:\", rotated)"
   ]
  },
  {
   "cell_type": "markdown",
   "id": "4de0237c",
   "metadata": {},
   "source": [
    "### Assignment 15: List Intersection\n",
    "Write function that takes two lists and returns a new list containing only the elements that are present in both lists. Print the intersected list."
   ]
  },
  {
   "cell_type": "code",
   "execution_count": 57,
   "id": "42b8ffd9",
   "metadata": {},
   "outputs": [
    {
     "name": "stdout",
     "output_type": "stream",
     "text": [
      "\n",
      "First list: [1, 2, 3, 4, 5]\n",
      "Second list: [4, 5, 6, 7, 8]\n",
      "Intersection of lists: [4, 5]\n"
     ]
    }
   ],
   "source": [
    "#Your code here\n",
    "def find_intersection(list1, list2):\n",
    "    \"\"\"\n",
    "    Returns a list containing elements present in both input lists.\n",
    "    Can be done in 3 ways:\n",
    "    1. Using sets (most efficient)\n",
    "    2. Using list comprehension\n",
    "    3. Using traditional loop\n",
    "    \"\"\"\n",
    "    # Method 1: Using sets (most efficient)\n",
    "    return list(set(list1) & set(list2))\n",
    "    \n",
    "    # Method 2: Using list comprehension\n",
    "    # return [x for x in list1 if x in list2]\n",
    "    \n",
    "    # Method 3: Using traditional loop\n",
    "    # result = []\n",
    "    # for x in list1:\n",
    "    #     if x in list2 and x not in result:\n",
    "    #         result.append(x)\n",
    "    # return result\n",
    "\n",
    "# Take input for first list\n",
    "list1 = list(map(int, input(\"Enter first list elements separated by spaces: \").split()))\n",
    "\n",
    "# Take input for second list\n",
    "list2 = list(map(int, input(\"Enter second list elements separated by spaces: \").split()))\n",
    "\n",
    "# Print original lists\n",
    "print(\"\\nFirst list:\", list1)\n",
    "print(\"Second list:\", list2)\n",
    "\n",
    "# Find and print intersection\n",
    "intersection = find_intersection(list1, list2)\n",
    "print(\"Intersection of lists:\", intersection)"
   ]
  }
 ],
 "metadata": {
  "kernelspec": {
   "display_name": "base",
   "language": "python",
   "name": "python3"
  },
  "language_info": {
   "codemirror_mode": {
    "name": "ipython",
    "version": 3
   },
   "file_extension": ".py",
   "mimetype": "text/x-python",
   "name": "python",
   "nbconvert_exporter": "python",
   "pygments_lexer": "ipython3",
   "version": "3.10.10"
  }
 },
 "nbformat": 4,
 "nbformat_minor": 5
}
