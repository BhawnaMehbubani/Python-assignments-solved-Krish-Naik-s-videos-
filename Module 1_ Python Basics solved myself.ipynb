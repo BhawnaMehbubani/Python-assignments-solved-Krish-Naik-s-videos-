{
 "cells": [
  {
   "cell_type": "markdown",
   "metadata": {},
   "source": [
    "# Lesson 1.2: Python Basics\n",
    "## Topics Covered:\n",
    "- Syntax and Semantics\n",
    "- Variables and Data Types\n",
    "- Basic Operators (Arithmetic, Comparison, Logical)\n"
   ]
  },
  {
   "cell_type": "markdown",
   "metadata": {},
   "source": [
    "## 1. Syntax and Semantics\n",
    "\n",
    "**Question 1:** Write a Python program to print \"Hello, World!\"."
   ]
  },
  {
   "cell_type": "code",
   "execution_count": null,
   "metadata": {},
   "outputs": [
    {
     "name": "stdout",
     "output_type": "stream",
     "text": [
      "Hello World!\n"
     ]
    }
   ],
   "source": [
    "# Your code here\n",
    "print(\"Hello World!\")"
   ]
  },
  {
   "cell_type": "markdown",
   "metadata": {},
   "source": [
    "**Question 2:** Write a Python program that takes a user input and prints it."
   ]
  },
  {
   "cell_type": "code",
   "execution_count": 5,
   "metadata": {},
   "outputs": [
    {
     "name": "stdout",
     "output_type": "stream",
     "text": [
      "8\n"
     ]
    }
   ],
   "source": [
    "# Your code here\n",
    "a=input()\n",
    "print(a)"
   ]
  },
  {
   "cell_type": "markdown",
   "metadata": {},
   "source": [
    "**Question 3:** Write a Python program to check if a number is positive, negative, or zero."
   ]
  },
  {
   "cell_type": "code",
   "execution_count": 4,
   "metadata": {},
   "outputs": [
    {
     "name": "stdout",
     "output_type": "stream",
     "text": [
      "Number is zero\n"
     ]
    }
   ],
   "source": [
    "# Your code here\n",
    "a=int(input())\n",
    "if(a<0):\n",
    "    print(\"Number is negative\")\n",
    "elif(a>0):\n",
    "    print(\"Number is positive\")\n",
    "else:\n",
    "    print(\"Number is zero\")    \n"
   ]
  },
  {
   "cell_type": "markdown",
   "metadata": {},
   "source": [
    "**Question 4:** Write a Python program to find the largest of three numbers."
   ]
  },
  {
   "cell_type": "code",
   "execution_count": 2,
   "metadata": {},
   "outputs": [
    {
     "name": "stdout",
     "output_type": "stream",
     "text": [
      "986  c is the largest\n"
     ]
    }
   ],
   "source": [
    "# Your code here\n",
    "'''a=int(input())\n",
    "b=int(input())\n",
    "c=int(input())'''\n",
    "a, b, c = input(\"Values: \").split()\n",
    "if((a>=b) and (a>=c)):\n",
    "    print(a,\" a is largest\")\n",
    "elif((b>=a) and (b>=c)):\n",
    "    print(b,\" b is the largest\")\n",
    "else:\n",
    "    print(c,\" c is the largest\")        "
   ]
  },
  {
   "cell_type": "markdown",
   "metadata": {},
   "source": [
    "**Question 5:** Write a Python program to calculate the factorial of a number."
   ]
  },
  {
   "cell_type": "code",
   "execution_count": 24,
   "metadata": {},
   "outputs": [
    {
     "name": "stdout",
     "output_type": "stream",
     "text": [
      "120\n"
     ]
    }
   ],
   "source": [
    "# Your code here\n",
    "def fact(n):\n",
    "    return 1 if ((n==1) or (n==0)) else n*fact(n-1)\n",
    "\n",
    "n=int(input(\"Enter the number to calculate factorial\"))\n",
    "print(fact(n))\n"
   ]
  },
  {
   "cell_type": "markdown",
   "metadata": {},
   "source": [
    "## 2. Variables and Data Types\n",
    "\n",
    "**Question 6:** Create variables of different data types: integer, float, string, and boolean. Print their values and types."
   ]
  },
  {
   "cell_type": "code",
   "execution_count": 26,
   "metadata": {},
   "outputs": [
    {
     "name": "stdout",
     "output_type": "stream",
     "text": [
      "5 <class 'int'>\n",
      "5.0 <class 'float'>\n",
      "5 <class 'str'>\n",
      "True <class 'bool'>\n"
     ]
    }
   ],
   "source": [
    "# Your code here\n",
    "a=5\n",
    "print(a,type(a))\n",
    "a=5.0\n",
    "print(a,type(a))\n",
    "a=\"5\"\n",
    "print(a,type(a))\n",
    "a=True\n",
    "print(a,type(a))"
   ]
  },
  {
   "cell_type": "markdown",
   "metadata": {},
   "source": [
    "**Question 7:** Write a Python program to swap the values of two variables."
   ]
  },
  {
   "cell_type": "code",
   "execution_count": 66,
   "metadata": {},
   "outputs": [
    {
     "name": "stdout",
     "output_type": "stream",
     "text": [
      "Before swapping: a = 10, b = 20\n",
      "After swapping: a = 20, b = 10\n"
     ]
    }
   ],
   "source": [
    "# Your code here\n",
    "def swap_numbers_tuple(a, b):\n",
    "    print(f\"Before swapping: a = {a}, b = {b}\")\n",
    "    a, b = b, a  # Tuple unpacking performs the swap\n",
    "    print(f\"After swapping: a = {a}, b = {b}\")\n",
    "    return a, b\n",
    "\n",
    "# Example usage:\n",
    "num1 = 10\n",
    "num2 = 20\n",
    "num1, num2 = swap_numbers_tuple(num1, num2)"
   ]
  },
  {
   "cell_type": "code",
   "execution_count": 68,
   "metadata": {},
   "outputs": [
    {
     "name": "stdout",
     "output_type": "stream",
     "text": [
      "Before swapping: a = 4, b = 89\n",
      "After swapping: a = 89, b = 4\n"
     ]
    }
   ],
   "source": [
    "def swap_numbers_arithmetic(a, b):\n",
    "    print(f\"Before swapping: a = {a}, b = {b}\")\n",
    "    a = a + b  # a now holds the sum of original a and b\n",
    "    b = a - b  # b now holds the original value of a (sum - original b)\n",
    "    a = a - b  # a now holds the original value of b (sum - original a)\n",
    "    print(f\"After swapping: a = {a}, b = {b}\")\n",
    "    return a, b\n",
    "\n",
    "# Example usage:\n",
    "\n",
    "val1, val2 = map(int, input(\"Enter two integers separated by a space: \").split())\n",
    "val1, val2 = swap_numbers_arithmetic(val1, val2)"
   ]
  },
  {
   "cell_type": "markdown",
   "metadata": {},
   "source": [
    "**Question 8:** Write a Python program to convert Celsius to Fahrenheit."
   ]
  },
  {
   "cell_type": "code",
   "execution_count": null,
   "metadata": {},
   "outputs": [],
   "source": [
    "# Your code here\n",
    "def celsius_to_fahrenheit(celsius):\n",
    "  fahrenheit = (celsius * 9/5) + 32\n",
    "  return fahrenheit\n",
    "\n",
    "# Example usage:\n",
    "celsius_temp = float(input(\"Enter the temperature in Celsius: \"))\n",
    "fahrenheit_temp = celsius_to_fahrenheit(celsius_temp)\n",
    "\n",
    "print(f\"{celsius_temp}°C is equal to {fahrenheit_temp}°F.\")"
   ]
  },
  {
   "cell_type": "markdown",
   "metadata": {},
   "source": [
    "**Question 9:** Write a Python program to concatenate two strings."
   ]
  },
  {
   "cell_type": "code",
   "execution_count": 49,
   "metadata": {},
   "outputs": [
    {
     "name": "stdout",
     "output_type": "stream",
     "text": [
      "hgfhyfjhghj\n"
     ]
    }
   ],
   "source": [
    "# Your code here\n",
    "s1,s2=input(\"Strings please : \").split()\n",
    "print(s1+s2)"
   ]
  },
  {
   "cell_type": "markdown",
   "metadata": {},
   "source": [
    "**Question 10:** Write a Python program to check if a variable is of a specific data type."
   ]
  },
  {
   "cell_type": "code",
   "execution_count": 54,
   "metadata": {},
   "outputs": [
    {
     "name": "stdout",
     "output_type": "stream",
     "text": [
      "Is '10' an integer? True\n",
      "Is '10' a string? False\n",
      "Is 'Hello' a string? True\n",
      "Is 'Hello' a float? False\n",
      "Is '[1, 2, 3]' a list? True\n",
      "Is '5.0' an int or float? True\n",
      "Is '<__main__.MyClass object at 0x10583f8b0>' an instance of MyClass? True\n"
     ]
    }
   ],
   "source": [
    "# Your code here\n",
    "a=True\n",
    "def check_variable_type(variable, expected_type):\n",
    "    \"\"\"\n",
    "    Checks if a given variable is of the expected data type.\n",
    "\n",
    "    Args:\n",
    "        variable: The variable to check.\n",
    "        expected_type: The data type (e.g., int, str, list) to check against.\n",
    "\n",
    "    Returns:\n",
    "        True if the variable is of the expected type, False otherwise.\n",
    "    \"\"\"\n",
    "    return isinstance(variable, expected_type)\n",
    "\n",
    "# Example usage:\n",
    "\n",
    "# Integer variable\n",
    "my_int = 10\n",
    "print(f\"Is '{my_int}' an integer? {check_variable_type(my_int, int)}\")\n",
    "print(f\"Is '{my_int}' a string? {check_variable_type(my_int, str)}\")\n",
    "\n",
    "# String variable\n",
    "my_string = \"Hello\"\n",
    "print(f\"Is '{my_string}' a string? {check_variable_type(my_string, str)}\")\n",
    "print(f\"Is '{my_string}' a float? {check_variable_type(my_string, float)}\")\n",
    "\n",
    "# List variable\n",
    "my_list = [1, 2, 3]\n",
    "print(f\"Is '{my_list}' a list? {check_variable_type(my_list, list)}\")\n",
    "\n",
    "# Checking for multiple types\n",
    "my_number = 5.0\n",
    "print(f\"Is '{my_number}' an int or float? {check_variable_type(my_number, (int, float))}\")\n",
    "\n",
    "# Custom class instance\n",
    "class MyClass:\n",
    "    pass\n",
    "\n",
    "my_object = MyClass()\n",
    "print(f\"Is '{my_object}' an instance of MyClass? {check_variable_type(my_object, MyClass)}\")\n",
    "\n"
   ]
  },
  {
   "cell_type": "markdown",
   "metadata": {},
   "source": [
    "## 3. Basic Operators (Arithmetic, Comparison, Logical)\n",
    "\n",
    "**Question 11:** Write a Python program to perform arithmetic operations: addition, subtraction, multiplication, and division."
   ]
  },
  {
   "cell_type": "code",
   "execution_count": 63,
   "metadata": {},
   "outputs": [
    {
     "name": "stdout",
     "output_type": "stream",
     "text": [
      "Addition of these two numbers is 27\n",
      "Substraction of these two numbers is 15\n",
      "Multiplication of these two numbers is 126\n",
      "Division of these two numbers is 3.5\n",
      "Floor division of these two numbers is 3\n",
      "Modulus of these two numbers is 3\n"
     ]
    }
   ],
   "source": [
    "# Your code here\n",
    "a, b = map(int, input(\"Enter two integers separated by a space: \").split())\n",
    "#addition\n",
    "print(f\"Addition of these two numbers is {a+b}\")\n",
    "#substraction\n",
    "print(f\"Substraction of these two numbers is {a-b}\")\n",
    "#multiplication\n",
    "print(f\"Multiplication of these two numbers is {a*b}\")\n",
    "#division\n",
    "print(f\"Division of these two numbers is {a/b}\")\n",
    "#floor_division\n",
    "print(f\"Floor division of these two numbers is {a//b}\")\n",
    "#modulus\n",
    "print(f\"Modulus of these two numbers is {a%b}\")\n"
   ]
  },
  {
   "cell_type": "markdown",
   "metadata": {},
   "source": [
    "**Question 12:** Write a Python program to demonstrate comparison operators: equal to, not equal to, greater than, less than."
   ]
  },
  {
   "cell_type": "code",
   "execution_count": 65,
   "metadata": {},
   "outputs": [
    {
     "name": "stdout",
     "output_type": "stream",
     "text": [
      "743346 is not equal to 98785\n",
      "743346 is greater than 98785\n"
     ]
    }
   ],
   "source": [
    "# Your code here\n",
    "a, b = map(int, input(\"Enter two integers separated by a space: \").split())\n",
    "if(a==b):\n",
    "    print(f\"{a} is equal to {b}\")\n",
    "elif(a!=b):\n",
    "    print(f\"{a} is not equal to {b}\")\n",
    "    if(a<b):\n",
    "        print(f\"{a} is less than {b}\")\n",
    "    elif(a>b):\n",
    "        print(f\"{a} is greater than {b}\")    "
   ]
  },
  {
   "cell_type": "markdown",
   "metadata": {},
   "source": [
    "**Question 13:** Write a Python program to demonstrate logical operators: and, or, not."
   ]
  },
  {
   "cell_type": "code",
   "execution_count": 70,
   "metadata": {},
   "outputs": [
    {
     "name": "stdout",
     "output_type": "stream",
     "text": [
      "--- Demonstrating Logical Operators (AND, OR, NOT) ---\n",
      "\n",
      "Condition A: False\n",
      "Condition B: True\n",
      "\n",
      "Result of A AND B: False\n",
      "Result of A OR B: True\n",
      "Result of NOT A: True\n",
      "Result of NOT B: False\n"
     ]
    }
   ],
   "source": [
    "# Your code here\n",
    "def demonstrate_logical_operators():\n",
    "    print(\"--- Demonstrating Logical Operators (AND, OR, NOT) ---\")\n",
    "\n",
    "    # Get boolean input for condition_a\n",
    "    while True:\n",
    "        input_a = input(\"Enter 'True' or 'False' for condition A: \").strip().lower()\n",
    "        if input_a == 'true':\n",
    "            condition_a = True\n",
    "            break\n",
    "        elif input_a == 'false':\n",
    "            condition_a = False\n",
    "            break\n",
    "        else:\n",
    "            print(\"Invalid input. Please enter 'True' or 'False'.\")\n",
    "\n",
    "    # Get boolean input for condition_b\n",
    "    while True:\n",
    "        input_b = input(\"Enter 'True' or 'False' for condition B: \").strip().lower()\n",
    "        if input_b == 'true':\n",
    "            condition_b = True\n",
    "            break\n",
    "        elif input_b == 'false':\n",
    "            condition_b = False\n",
    "            break\n",
    "        else:\n",
    "            print(\"Invalid input. Please enter 'True' or 'False'.\")\n",
    "\n",
    "    print(f\"\\nCondition A: {condition_a}\")\n",
    "    print(f\"Condition B: {condition_b}\")\n",
    "\n",
    "    # Demonstrate 'and' operator\n",
    "    result_and = condition_a and condition_b\n",
    "    print(f\"\\nResult of A AND B: {result_and}\")\n",
    "\n",
    "    # Demonstrate 'or' operator\n",
    "    result_or = condition_a or condition_b\n",
    "    print(f\"Result of A OR B: {result_or}\")\n",
    "\n",
    "    # Demonstrate 'not' operator\n",
    "    result_not_a = not condition_a\n",
    "    result_not_b = not condition_b\n",
    "    print(f\"Result of NOT A: {result_not_a}\")\n",
    "    print(f\"Result of NOT B: {result_not_b}\")\n",
    "\n",
    "if __name__ == \"__main__\":\n",
    "    demonstrate_logical_operators()"
   ]
  },
  {
   "cell_type": "markdown",
   "metadata": {},
   "source": [
    "**Question 14:** Write a Python program to calculate the square of a number."
   ]
  },
  {
   "cell_type": "code",
   "execution_count": 72,
   "metadata": {},
   "outputs": [
    {
     "name": "stdout",
     "output_type": "stream",
     "text": [
      "49\n"
     ]
    }
   ],
   "source": [
    "# Your code here\n",
    "def square(n):\n",
    "    return(n**2)\n",
    "print(square(int(input())))"
   ]
  },
  {
   "cell_type": "markdown",
   "metadata": {},
   "source": [
    "**Question 15:** Write a Python program to check if a number is even or odd."
   ]
  },
  {
   "cell_type": "code",
   "execution_count": 82,
   "metadata": {},
   "outputs": [
    {
     "name": "stdout",
     "output_type": "stream",
     "text": [
      "Even\n"
     ]
    }
   ],
   "source": [
    "# Your code here\n",
    "def even_odd(n):\n",
    "    return (\"Even\" if num % 2 == 0 else \"Odd\")\n",
    "num = int(input(\"Enter a number: \"))\n",
    "print(even_odd(num))"
   ]
  },
  {
   "cell_type": "markdown",
   "metadata": {},
   "source": [
    "**Question 16:** Write a Python program to find the sum of the first n natural numbers."
   ]
  },
  {
   "cell_type": "code",
   "execution_count": 87,
   "metadata": {},
   "outputs": [
    {
     "name": "stdout",
     "output_type": "stream",
     "text": [
      "3\n"
     ]
    }
   ],
   "source": [
    "# Your code here\n",
    "\n",
    "def sum(n):\n",
    "    sum=0\n",
    "    for i in range (1,n+1):\n",
    "        sum+=i\n",
    "    return (sum)\n",
    "num = int(input(\"Enter a number: \"))\n",
    "print(sum(num))"
   ]
  },
  {
   "cell_type": "markdown",
   "metadata": {},
   "source": [
    "**Question 17:** Write a Python program to check if a year is a leap year."
   ]
  },
  {
   "cell_type": "code",
   "execution_count": 107,
   "metadata": {},
   "outputs": [
    {
     "name": "stdout",
     "output_type": "stream",
     "text": [
      "2025 is not a leap year.\n"
     ]
    }
   ],
   "source": [
    "# Your code here\n",
    "def is_leap_year(year):\n",
    "    if (year % 4 == 0 and year % 100 != 0) or (year % 400 == 0):\n",
    "        return True\n",
    "    else:\n",
    "        return False\n",
    "\n",
    "try:\n",
    "    year_to_check = int(input(\"Enter a year: \"))\n",
    "    \n",
    "    if is_leap_year(year_to_check):\n",
    "        print(f\"{year_to_check} is a leap year.\")\n",
    "    else:\n",
    "        print(f\"{year_to_check} is not a leap year.\")\n",
    "\n",
    "except ValueError:\n",
    "    print(\"Invalid input. Please enter a valid year (an integer).\")"
   ]
  },
  {
   "cell_type": "markdown",
   "metadata": {},
   "source": [
    "**Question 18:** Write a Python program to reverse a string."
   ]
  },
  {
   "cell_type": "code",
   "execution_count": 97,
   "metadata": {},
   "outputs": [
    {
     "name": "stdout",
     "output_type": "stream",
     "text": [
      "ghjfjhghkjfhhjbdtfyuhibkhujfghdgrsgrtrvyjuhk hhjffgcgsfdsxfhghkjvmjyfyjgj\n"
     ]
    }
   ],
   "source": [
    "def reverse(s):\n",
    "    s=s[::-1]\n",
    "    return s\n",
    "print(reverse(input(str)))"
   ]
  },
  {
   "cell_type": "markdown",
   "metadata": {},
   "source": [
    "**Question 19:** Write a Python program to check if a string is a palindrome."
   ]
  },
  {
   "cell_type": "code",
   "execution_count": 102,
   "metadata": {},
   "outputs": [
    {
     "name": "stdout",
     "output_type": "stream",
     "text": [
      "False\n"
     ]
    }
   ],
   "source": [
    "# Your code here\n",
    "def palindrome(s):\n",
    "    reversed_s=\"\".join(reversed(s))\n",
    "    #return(\"True\" if s==reversed_s else \"False\")\n",
    "    return(f\"{s==reversed_s}\")\n",
    "palindrome_string=input().lower()\n",
    "print(palindrome(palindrome_string))\n"
   ]
  },
  {
   "cell_type": "markdown",
   "metadata": {},
   "source": [
    "**Question 20:** Write a Python program to sort a list of numbers in ascending order."
   ]
  },
  {
   "cell_type": "code",
   "execution_count": 105,
   "metadata": {},
   "outputs": [
    {
     "name": "stdout",
     "output_type": "stream",
     "text": [
      "The sorted list in ascending order is: [2, 3, 3, 4, 5, 6, 13, 34, 44, 44, 44, 56, 67, 87, 87, 221, 322, 332, 455, 455, 456, 544, 544, 678, 766, 889, 3332, 5432, 7665, 7776, 43234, 66776, 223456]\n"
     ]
    }
   ],
   "source": [
    "# Your code here\n",
    "def sort_user_numbers():\n",
    "    while True:\n",
    "        user_input = input(\"Enter numbers separated by spaces (e.g., 10 5 20): \")\n",
    "        try:\n",
    "            # Convert the input string into a list of integers\n",
    "            numbers = [int(num) for num in user_input.split()]\n",
    "            break  # Exit loop if input is valid\n",
    "        except ValueError:\n",
    "            print(\"Invalid input. Please enter only numbers separated by spaces.\")\n",
    "\n",
    "    # Sort the list in ascending order (in-place modification)\n",
    "    numbers.sort()\n",
    "\n",
    "    print(\"The sorted list in ascending order is:\", numbers)\n",
    "\n",
    "# Call the function to execute the program\n",
    "sort_user_numbers()"
   ]
  },
  {
   "cell_type": "code",
   "execution_count": null,
   "metadata": {},
   "outputs": [],
   "source": []
  }
 ],
 "metadata": {
  "kernelspec": {
   "display_name": "base",
   "language": "python",
   "name": "python3"
  },
  "language_info": {
   "codemirror_mode": {
    "name": "ipython",
    "version": 3
   },
   "file_extension": ".py",
   "mimetype": "text/x-python",
   "name": "python",
   "nbconvert_exporter": "python",
   "pygments_lexer": "ipython3",
   "version": "3.10.10"
  }
 },
 "nbformat": 4,
 "nbformat_minor": 4
}
